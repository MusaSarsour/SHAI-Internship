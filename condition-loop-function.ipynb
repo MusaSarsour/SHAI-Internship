{
  "nbformat": 4,
  "nbformat_minor": 0,
  "metadata": {
    "colab": {
      "provenance": []
    },
    "kernelspec": {
      "name": "python3",
      "display_name": "Python 3"
    },
    "language_info": {
      "name": "python"
    }
  },
  "cells": [
    {
      "cell_type": "markdown",
      "source": [
        "# **Condition Tasks**"
      ],
      "metadata": {
        "id": "43fufuTdkZyi"
      }
    },
    {
      "cell_type": "markdown",
      "source": [
        "# 1) Write a program that checks if a number is negative, and prints \"The number is negative\" if it is."
      ],
      "metadata": {
        "id": "9YTizbtjdn1R"
      }
    },
    {
      "cell_type": "code",
      "execution_count": 2,
      "metadata": {
        "id": "ExIxPU0qDP7w",
        "colab": {
          "base_uri": "https://localhost:8080/"
        },
        "outputId": "958c177d-cde1-4641-e58f-ea0a403852ea"
      },
      "outputs": [
        {
          "output_type": "stream",
          "name": "stdout",
          "text": [
            "Enter a number: -5\n",
            "The number is negative\n"
          ]
        }
      ],
      "source": [
        "num = float(input(\"Enter a number: \"))\n",
        "if num < 0:\n",
        "  print(\"The number is negative\")\n",
        "else:\n",
        "  print(\"The number is positive\")"
      ]
    },
    {
      "cell_type": "markdown",
      "source": [
        "# 2) Write a program that checks if a number is odd, and prints \"The number is odd\" if it is.\n"
      ],
      "metadata": {
        "id": "eG50xDN6eO6y"
      }
    },
    {
      "cell_type": "code",
      "source": [
        "num = int(input(\"Enter a number: \"))\n",
        "if num % 2 == 1:\n",
        "  print(\"The number is odd\")\n",
        "else:\n",
        "  print(\"The number is even\")"
      ],
      "metadata": {
        "colab": {
          "base_uri": "https://localhost:8080/"
        },
        "id": "UOa8RlNuNTNh",
        "outputId": "929b0146-4100-4ad7-be8e-d53941fd1de5"
      },
      "execution_count": 4,
      "outputs": [
        {
          "output_type": "stream",
          "name": "stdout",
          "text": [
            "Enter a number: 7\n",
            "The number is odd\n"
          ]
        }
      ]
    },
    {
      "cell_type": "markdown",
      "source": [
        "# 3) Determining price categories based on age for a theme park\n",
        "# if age under 5, price 0,\n",
        "# age between 6 and 12  -> price 10\n",
        "# age between 13 and 65 -> price 20\n",
        "# age above 65 -> price 15"
      ],
      "metadata": {
        "id": "JdJfMuSke7wI"
      }
    },
    {
      "cell_type": "code",
      "source": [
        "age = int(input(\"Enter your age: \"))\n",
        "\n",
        "if age <= 5:\n",
        "  price = 0\n",
        "  print(\"The price is \" + str(price))\n",
        "elif (6 <= age) and (age <= 12):\n",
        "  price = 10\n",
        "  print(\"The price is \" + str(price))\n",
        "elif 13 <= age <= 65:\n",
        "  price = 20\n",
        "  print(\"The price is \" + str(price))\n",
        "else:\n",
        "  price = 15\n",
        "  print(\"The price is \" + str(price))"
      ],
      "metadata": {
        "colab": {
          "base_uri": "https://localhost:8080/"
        },
        "id": "7ovZ6tVZWjgs",
        "outputId": "9bb6d2de-9dff-4f20-b036-f0fd0f26ff0a"
      },
      "execution_count": 7,
      "outputs": [
        {
          "output_type": "stream",
          "name": "stdout",
          "text": [
            "Enter your age: 21\n",
            "The price is 20\n"
          ]
        }
      ]
    },
    {
      "cell_type": "markdown",
      "source": [
        "# 4) Classifying a student's grade A, B, C, D, F"
      ],
      "metadata": {
        "id": "e03EbYGTgJf6"
      }
    },
    {
      "cell_type": "code",
      "source": [
        "grade = int(input(\"Enter your Grade: \"))\n",
        "\n",
        "if 90 <= grade <= 100:\n",
        "  print(\"You will be classified as A\")\n",
        "elif 80 <= grade <= 89:\n",
        "  print(\"You will be classified as B\")\n",
        "elif 70 <= grade <= 79:\n",
        "  print(\"You will be classified as C\")\n",
        "elif 60 <= grade <= 69:\n",
        "  print(\"You will be classified as D\")\n",
        "else:\n",
        "  print(\"You will be classified as F\")"
      ],
      "metadata": {
        "colab": {
          "base_uri": "https://localhost:8080/"
        },
        "id": "161WqrG_gJ6a",
        "outputId": "ad5c8d32-e051-46d1-bea7-8bb9a825c634"
      },
      "execution_count": 11,
      "outputs": [
        {
          "output_type": "stream",
          "name": "stdout",
          "text": [
            "Enter your Grade: 87\n",
            "You will be classified as B\n"
          ]
        }
      ]
    },
    {
      "cell_type": "markdown",
      "source": [
        "# 5) check password\n",
        "# username = \"admin\"\n",
        "# password = \"123456\""
      ],
      "metadata": {
        "id": "jJs3WkZQhYc6"
      }
    },
    {
      "cell_type": "code",
      "source": [
        "user = input(\"Enter Username: \")\n",
        "password = input(\"Enter password: \")\n",
        "\n",
        "if (user != \"admin\") and (password != \"123456\"):\n",
        "  print(\"The username and password are incorrect\")\n",
        "elif user != \"admin\":\n",
        "  print(\"The username is incorrect\")\n",
        "elif password != \"123456\":\n",
        "  print(\"The password is incorrect\")\n",
        "else:\n",
        "  print(\"Credentials are Correct\")"
      ],
      "metadata": {
        "colab": {
          "base_uri": "https://localhost:8080/"
        },
        "id": "gLtrj4nVhcPR",
        "outputId": "893b610b-5b7d-4429-d7d9-7a7066c54c41"
      },
      "execution_count": 17,
      "outputs": [
        {
          "output_type": "stream",
          "name": "stdout",
          "text": [
            "Enter Username: admin\n",
            "Enter password: 123456\n",
            "Credentials are Correct\n"
          ]
        }
      ]
    },
    {
      "cell_type": "markdown",
      "source": [
        "# 6) dicount coupon\n",
        "# Discounts on a product based on a coupon code:DISCOUNT10 -> price - 10"
      ],
      "metadata": {
        "id": "X_lVuO01i9YD"
      }
    },
    {
      "cell_type": "code",
      "source": [
        "Price = 90 # Assuming that the original price is 90\n",
        "\n",
        "try:\n",
        "  DiscountCode = input(\"Enter a doscount code: \")\n",
        "except:\n",
        "  DiscountCode = \" \"\n",
        "\n",
        "if DiscountCode.upper() == \"DISCOUNT10\":\n",
        "  Price -= 10\n",
        "\n",
        "print(\"The price is \" + str(Price))"
      ],
      "metadata": {
        "colab": {
          "base_uri": "https://localhost:8080/"
        },
        "id": "3rdkEhOMi-sr",
        "outputId": "13e7fe50-c30b-4b26-ef34-8d5937dbf70e"
      },
      "execution_count": 27,
      "outputs": [
        {
          "output_type": "stream",
          "name": "stdout",
          "text": [
            "Enter a doscount code: DISCOUNT10\n",
            "The price is 80\n"
          ]
        }
      ]
    },
    {
      "cell_type": "markdown",
      "source": [
        "# **Loop Tasks**"
      ],
      "metadata": {
        "id": "2EXHCmWrkkqi"
      }
    },
    {
      "cell_type": "markdown",
      "source": [
        "# 1) Print the square of each number in the list [1, 2, 3, 4, 5]."
      ],
      "metadata": {
        "id": "CP9jtQVTkWhj"
      }
    },
    {
      "cell_type": "code",
      "source": [
        "ls = [1, 2, 3, 4, 5]\n",
        "\n",
        "for i in ls:\n",
        "  print(i ** 2)"
      ],
      "metadata": {
        "colab": {
          "base_uri": "https://localhost:8080/"
        },
        "id": "s7JJ8M4mkXXC",
        "outputId": "a4f254ad-b0fe-49ef-8130-e6a69a362862"
      },
      "execution_count": 22,
      "outputs": [
        {
          "output_type": "stream",
          "name": "stdout",
          "text": [
            "1\n",
            "4\n",
            "9\n",
            "16\n",
            "25\n"
          ]
        }
      ]
    },
    {
      "cell_type": "markdown",
      "source": [
        "# 2) Print all numbers from 0 to 10 using a while loop."
      ],
      "metadata": {
        "id": "IScp1S07lAaj"
      }
    },
    {
      "cell_type": "code",
      "source": [
        "i = 0\n",
        "\n",
        "while i <= 10:\n",
        "  print(i)\n",
        "  i += 1"
      ],
      "metadata": {
        "colab": {
          "base_uri": "https://localhost:8080/"
        },
        "id": "KVSPvnJvlEMZ",
        "outputId": "9bf7cfaa-7a8c-40b2-dcf7-d54c126be572"
      },
      "execution_count": 23,
      "outputs": [
        {
          "output_type": "stream",
          "name": "stdout",
          "text": [
            "0\n",
            "1\n",
            "2\n",
            "3\n",
            "4\n",
            "5\n",
            "6\n",
            "7\n",
            "8\n",
            "9\n",
            "10\n"
          ]
        }
      ]
    },
    {
      "cell_type": "markdown",
      "source": [
        "# 3) Count down from 10 to 1 and then print \"Blast off!\""
      ],
      "metadata": {
        "id": "5iZXRrnClS6B"
      }
    },
    {
      "cell_type": "code",
      "source": [
        "ls = []\n",
        "\n",
        "for x in range(1,11):\n",
        "  ls.append(x)\n",
        "\n",
        "ls.reverse()\n",
        "\n",
        "for i in ls:\n",
        "  print(i)"
      ],
      "metadata": {
        "colab": {
          "base_uri": "https://localhost:8080/"
        },
        "id": "gSCbv_waX6kv",
        "outputId": "3884964f-1eb1-4336-e841-40c16e7b2e53"
      },
      "execution_count": 24,
      "outputs": [
        {
          "output_type": "stream",
          "name": "stdout",
          "text": [
            "10\n",
            "9\n",
            "8\n",
            "7\n",
            "6\n",
            "5\n",
            "4\n",
            "3\n",
            "2\n",
            "1\n"
          ]
        }
      ]
    },
    {
      "cell_type": "markdown",
      "source": [
        "# 4) Print all even numbers from the list [1, 2, 3, 4, 5, 6, 7, 8, 9, 10] in one line using a for loop."
      ],
      "metadata": {
        "id": "sLdW3PE2l5hr"
      }
    },
    {
      "cell_type": "code",
      "source": [
        "ls = [1, 2, 3, 4, 5, 6, 7, 8, 9, 10]\n",
        "\n",
        "for i in ls:\n",
        "  if i % 2 == 0:\n",
        "    print(i , end = \" \")"
      ],
      "metadata": {
        "id": "eyvXUWWiZSYw",
        "colab": {
          "base_uri": "https://localhost:8080/"
        },
        "outputId": "490c4648-6847-43aa-cd40-966b8f95a141"
      },
      "execution_count": 25,
      "outputs": [
        {
          "output_type": "stream",
          "name": "stdout",
          "text": [
            "2 4 6 8 10 "
          ]
        }
      ]
    },
    {
      "cell_type": "markdown",
      "source": [
        "# **General Condition-Loop-Function Tasks**"
      ],
      "metadata": {
        "id": "ml51MpkUmQsJ"
      }
    },
    {
      "cell_type": "markdown",
      "source": [
        "Task 1: Write a program that takes two numbers as inputs from the user and prints their sum."
      ],
      "metadata": {
        "id": "QV9rJ3t6mari"
      }
    },
    {
      "cell_type": "code",
      "source": [
        "def Sum(x, y):\n",
        "  print(x + y)\n",
        "\n",
        "Num1 =  float(input(\"Enter the value of Number No.1: \"))\n",
        "Num2 =  float(input(\"Enter the value of Number No.2: \"))\n",
        "\n",
        "Sum(Num1, Num2)"
      ],
      "metadata": {
        "colab": {
          "base_uri": "https://localhost:8080/"
        },
        "id": "kiFALsn0mKR3",
        "outputId": "d352ead7-0bc7-4ade-ec29-9428abc80306"
      },
      "execution_count": 29,
      "outputs": [
        {
          "output_type": "stream",
          "name": "stdout",
          "text": [
            "Enter the value of Number No.1: 9\n",
            "Enter the value of Number No.2: 10\n",
            "19.0\n"
          ]
        }
      ]
    },
    {
      "cell_type": "markdown",
      "source": [
        "Task 2: Write a program that takes an integer input from the user. Use a for loop to print all numbers from that integer down to 0."
      ],
      "metadata": {
        "id": "K1Y0PqtwnUdr"
      }
    },
    {
      "cell_type": "code",
      "source": [
        "Num = int(input(\"Enter a number: \"))\n",
        "\n",
        "for i in range(Num, -1 ,-1):\n",
        "  print(i)"
      ],
      "metadata": {
        "colab": {
          "base_uri": "https://localhost:8080/"
        },
        "id": "DydB0Dh6nMlb",
        "outputId": "b74a9ed6-5cac-4a21-b0eb-73e3ba8306e6"
      },
      "execution_count": 32,
      "outputs": [
        {
          "output_type": "stream",
          "name": "stdout",
          "text": [
            "Enter a number: 10\n",
            "10\n",
            "9\n",
            "8\n",
            "7\n",
            "6\n",
            "5\n",
            "4\n",
            "3\n",
            "2\n",
            "1\n",
            "0\n"
          ]
        }
      ]
    },
    {
      "cell_type": "markdown",
      "source": [
        "Task 3: Write a program that takes an integer input from the user. Use a while loop to keep doubling the number until it is greater than 1000, then print the result."
      ],
      "metadata": {
        "id": "3eBoojs3oZV7"
      }
    },
    {
      "cell_type": "code",
      "source": [
        "Num = int(input(\"Enter a number: \"))\n",
        "\n",
        "while Num < 1000:\n",
        "  Num *= 2\n",
        "\n",
        "print(Num)"
      ],
      "metadata": {
        "colab": {
          "base_uri": "https://localhost:8080/"
        },
        "id": "eaTx5IYwn63F",
        "outputId": "44122583-588e-48fd-def4-97f74ef514b0"
      },
      "execution_count": 33,
      "outputs": [
        {
          "output_type": "stream",
          "name": "stdout",
          "text": [
            "Enter a number: 99\n",
            "1584\n"
          ]
        }
      ]
    },
    {
      "cell_type": "markdown",
      "source": [
        "Task 4: Write a function that takes a number as input and returns the square of the number. Use it in a program that takes an input from the user and prints the square."
      ],
      "metadata": {
        "id": "3bOn5piwooIa"
      }
    },
    {
      "cell_type": "code",
      "source": [
        "def Square(x):\n",
        "  return (x ** 2)\n",
        "\n",
        "Num = int(input(\"Enter a number: \"))\n",
        "\n",
        "print(Square(Num))"
      ],
      "metadata": {
        "colab": {
          "base_uri": "https://localhost:8080/"
        },
        "id": "u1nLUEpyokCN",
        "outputId": "415290c2-cc73-4dc3-a6c8-0477f7e6e774"
      },
      "execution_count": 36,
      "outputs": [
        {
          "output_type": "stream",
          "name": "stdout",
          "text": [
            "Enter a number: 6\n",
            "36\n"
          ]
        }
      ]
    },
    {
      "cell_type": "markdown",
      "source": [
        "Task 5: Write a program that takes a number as input from the user. If the number is greater than 10, print \"Big number\". If the number is less than or equal to 10, print \"Small number\"."
      ],
      "metadata": {
        "id": "78u6qC1WpVVs"
      }
    },
    {
      "cell_type": "code",
      "source": [
        "Num = float(input(\"Enter a number: \"))\n",
        "\n",
        "if Num > 10:\n",
        "  print(\"Big number\")\n",
        "else:\n",
        "  print(\"Small number\")"
      ],
      "metadata": {
        "colab": {
          "base_uri": "https://localhost:8080/"
        },
        "id": "9RI5p3SdpPaX",
        "outputId": "ea107a5a-e5bd-4658-a11a-5818e9236a4c"
      },
      "execution_count": 37,
      "outputs": [
        {
          "output_type": "stream",
          "name": "stdout",
          "text": [
            "Enter a number: 10.1\n",
            "Big number\n"
          ]
        }
      ]
    },
    {
      "cell_type": "markdown",
      "source": [
        "Task 6: Write a function that takes two numbers as inputs and returns their product. Use this function in a program that takes two inputs from the user and prints the product."
      ],
      "metadata": {
        "id": "Bzwyd48ap_Pb"
      }
    },
    {
      "cell_type": "code",
      "source": [
        "def Product(x, y):\n",
        "  return (x * y)\n",
        "\n",
        "Num1 = float(input(\"Enter number No.1: \"))\n",
        "Num2 = float(input(\"Enter number No.2: \"))\n",
        "\n",
        "print(Product(Num1, Num2))"
      ],
      "metadata": {
        "colab": {
          "base_uri": "https://localhost:8080/"
        },
        "id": "Rcu-F2Jxp32b",
        "outputId": "82910742-dad3-4180-9896-78a78bf569fb"
      },
      "execution_count": 38,
      "outputs": [
        {
          "output_type": "stream",
          "name": "stdout",
          "text": [
            "Enter number No.1: 5\n",
            "Enter number No.2: 6\n",
            "30.0\n"
          ]
        }
      ]
    },
    {
      "cell_type": "markdown",
      "source": [
        "Task 7: Write a program that uses a while loop to take a number as input from the user, subtract 5, and print the result. Continue this until the result is less than 0."
      ],
      "metadata": {
        "id": "Tp09fYLsqlST"
      }
    },
    {
      "cell_type": "code",
      "source": [
        "result = 0\n",
        "\n",
        "while result >= 0:\n",
        "  Num1 = int(input(\"Enter a number: \"))\n",
        "  result = Num1 - 5\n",
        "  print(\"The result of \" + str(Num1) + \" - 5 = \" + str(result))"
      ],
      "metadata": {
        "colab": {
          "base_uri": "https://localhost:8080/"
        },
        "id": "WDzS3HEtqhHW",
        "outputId": "0f712c56-cf89-4aaa-c6ba-01fe6374926b"
      },
      "execution_count": 43,
      "outputs": [
        {
          "output_type": "stream",
          "name": "stdout",
          "text": [
            "Enter a number: 15\n",
            "The result of 15 - 5 = 10\n",
            "Enter a number: 10\n",
            "The result of 10 - 5 = 5\n",
            "Enter a number: 6\n",
            "The result of 6 - 5 = 1\n",
            "Enter a number: 2\n",
            "The result of 2 - 5 = -3\n"
          ]
        }
      ]
    },
    {
      "cell_type": "markdown",
      "source": [
        "Task 8: Write a program that uses a for loop to take an integer input from the user and print the factorial of that number."
      ],
      "metadata": {
        "id": "Uu9_QbbMr1lc"
      }
    },
    {
      "cell_type": "code",
      "source": [
        "Num = int(input(\"Enter a number: \"))\n",
        "\n",
        "for i in range(Num - 1, 0, -1):\n",
        "  Num *= i\n",
        "\n",
        "print(Num)"
      ],
      "metadata": {
        "colab": {
          "base_uri": "https://localhost:8080/"
        },
        "id": "QZuH4lRxrVQb",
        "outputId": "c5e9d17d-addb-4ae1-90bc-6ba31bb71cec"
      },
      "execution_count": 48,
      "outputs": [
        {
          "output_type": "stream",
          "name": "stdout",
          "text": [
            "Enter a number: 6\n",
            "720\n"
          ]
        }
      ]
    },
    {
      "cell_type": "markdown",
      "source": [
        "Task 9: Write a program that takes a number as input from the user. If the number is positive, print \"Positive\". If the number is negative, print \"Negative\". If the number is zero, print \"Zero\"."
      ],
      "metadata": {
        "id": "XoiLIpz8ssCs"
      }
    },
    {
      "cell_type": "code",
      "source": [
        "Num = int(input(\"Enter a number: \"))\n",
        "\n",
        "if Num > 0:\n",
        "  print(\"The Number is Positive\")\n",
        "elif Num < 0:\n",
        "  print(\"The Number is Negative\")\n",
        "else:\n",
        "  print(\"The number is Zero\")"
      ],
      "metadata": {
        "colab": {
          "base_uri": "https://localhost:8080/"
        },
        "id": "cqXSq2Q9scBC",
        "outputId": "cb7a645f-c4e9-4670-bcf2-910607595f5f"
      },
      "execution_count": 50,
      "outputs": [
        {
          "output_type": "stream",
          "name": "stdout",
          "text": [
            "Enter a number: 0\n",
            "The number is Zero\n"
          ]
        }
      ]
    },
    {
      "cell_type": "markdown",
      "source": [
        "Task 10: Write a lambda function that takes two numbers as inputs and returns their division as a floating-point number. Use this function in a program that takes two inputs from the user and prints the division."
      ],
      "metadata": {
        "id": "_nAWyWVKtWEe"
      }
    },
    {
      "cell_type": "code",
      "source": [
        "Division = lambda x,y: x/y\n",
        "\n",
        "Num1 = float(input(\"Enter number No.1: \"))\n",
        "Num2 = float(input(\"Enter number No.2: \"))\n",
        "\n",
        "print(\"The Result of dividing\"+ str(Num1) + \"/\" + str(Num2) + str(Division(Num1, Num2)))\n",
        "print(\"The Result of dividing\"+ str(Num2) + \"/\" + str(Num1) + str(Division(Num2, Num1)))"
      ],
      "metadata": {
        "colab": {
          "base_uri": "https://localhost:8080/"
        },
        "id": "E3qHJZCKtRGy",
        "outputId": "e3e13699-4af7-4985-bca6-f6eac8802c55"
      },
      "execution_count": 51,
      "outputs": [
        {
          "output_type": "stream",
          "name": "stdout",
          "text": [
            "Enter number No.1: 5\n",
            "Enter number No.2: 10\n",
            "0.5\n",
            "2.0\n"
          ]
        }
      ]
    },
    {
      "cell_type": "code",
      "source": [],
      "metadata": {
        "id": "NtEgtG4suBYB"
      },
      "execution_count": null,
      "outputs": []
    }
  ]
}
