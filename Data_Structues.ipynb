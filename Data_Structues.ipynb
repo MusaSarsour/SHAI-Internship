{
  "nbformat": 4,
  "nbformat_minor": 0,
  "metadata": {
    "colab": {
      "provenance": []
    },
    "kernelspec": {
      "name": "python3",
      "display_name": "Python 3"
    },
    "language_info": {
      "name": "python"
    }
  },
  "cells": [
    {
      "cell_type": "markdown",
      "source": [
        "# **Data Structures**"
      ],
      "metadata": {
        "id": "_cYIhJaY5Dh9"
      }
    },
    {
      "cell_type": "markdown",
      "source": [
        "#*string*"
      ],
      "metadata": {
        "id": "y-06cAWf5N7S"
      }
    },
    {
      "cell_type": "markdown",
      "source": [
        "**Task**: Write a function to count the number of vowels in a given string."
      ],
      "metadata": {
        "id": "HacRsCnc5TQd"
      }
    },
    {
      "cell_type": "code",
      "execution_count": 14,
      "metadata": {
        "colab": {
          "base_uri": "https://localhost:8080/"
        },
        "id": "-FL1ksxOg2ET",
        "outputId": "3280955e-6ccc-4b15-b54c-cb9ca999e847"
      },
      "outputs": [
        {
          "output_type": "stream",
          "name": "stdout",
          "text": [
            "Enter a string: Musa Tareq SarSour\n",
            "7\n"
          ]
        }
      ],
      "source": [
        "vowels = [\"a\",\"i\",\"o\",\"u\",\"e\"]\n",
        "\n",
        "def vowels_count(inp):\n",
        "  counter = 0\n",
        "  for i in range(len(inp)):\n",
        "    if inp[i].lower() in vowels:\n",
        "      counter +=1\n",
        "  return counter\n",
        "\n",
        "inp = input(\"Enter a string: \")\n",
        "print(vowels_count(inp))"
      ]
    },
    {
      "cell_type": "markdown",
      "source": [
        "**Task**: Write a function that takes a string and returns the same string but with every second letter capitalized."
      ],
      "metadata": {
        "id": "oRR8PvFF9dBz"
      }
    },
    {
      "cell_type": "code",
      "source": [
        "def capitalize_second(s1):\n",
        "  s1 = s1.lower()\n",
        "  ls = s1.split()\n",
        "  for i in range(len(ls)):\n",
        "    ls[i] = ls[i].replace(ls[i][1], ls[i][1].upper())\n",
        "  return ' '.join(ls)\n",
        "\n",
        "s = input(\"Enter a string: \")\n",
        "print(capitalize_second(s))"
      ],
      "metadata": {
        "colab": {
          "base_uri": "https://localhost:8080/"
        },
        "id": "wy7FqZXEuOKs",
        "outputId": "3d568ae1-b981-4572-fe44-260d732464aa"
      },
      "execution_count": 40,
      "outputs": [
        {
          "output_type": "stream",
          "name": "stdout",
          "text": [
            "Enter a string: Musa Tareq SarSour\n",
            "mUsa tAreq sArsour\n"
          ]
        }
      ]
    },
    {
      "cell_type": "markdown",
      "source": [
        "# *List*"
      ],
      "metadata": {
        "id": "U5DZvdwtNjrh"
      }
    },
    {
      "cell_type": "markdown",
      "source": [
        "**Task**: Write a function that takes a list of numbers and returns a new list containing only the even numbers."
      ],
      "metadata": {
        "id": "QOnWAILfNzi-"
      }
    },
    {
      "cell_type": "code",
      "source": [
        "def ls_even(ls):\n",
        "  ls1 = []\n",
        "  for i in ls:\n",
        "    if i % 2 == 0:\n",
        "      ls1.append(i)\n",
        "  return ls1\n",
        "\n",
        "ls = [x for x in range(0, 11)]\n",
        "print(ls_even(ls))"
      ],
      "metadata": {
        "colab": {
          "base_uri": "https://localhost:8080/"
        },
        "id": "GpY8Gg-Jvf2b",
        "outputId": "d5395aa8-7c6d-4bf9-8cfb-b3ed5d37b6cd"
      },
      "execution_count": 56,
      "outputs": [
        {
          "output_type": "stream",
          "name": "stdout",
          "text": [
            "[0, 2, 4, 6, 8, 10]\n"
          ]
        }
      ]
    },
    {
      "cell_type": "markdown",
      "source": [
        "**Task**: Write a function that takes a list and returns a new list with duplicate values removed"
      ],
      "metadata": {
        "id": "j3zZ3z0jSYlf"
      }
    },
    {
      "cell_type": "code",
      "source": [
        "def remove_duplicates(ls):\n",
        "  ls1 = []\n",
        "  for i in ls:\n",
        "    if i not in ls1:\n",
        "      ls1.append(i)\n",
        "  return ls1\n",
        "  '''\n",
        "Alternative solution:\n",
        "\n",
        "ls = [1,1,2,3,4,4,3,1,5,6,1]\n",
        "print(set(ls))\n",
        "\n",
        "  '''\n",
        "ls = [1,1,2,3,4,4,3,1,5,6,1]\n",
        "print(remove_duplicates(ls))\n"
      ],
      "metadata": {
        "colab": {
          "base_uri": "https://localhost:8080/"
        },
        "id": "5z0Fr61vv9dI",
        "outputId": "4a4b5116-2f8c-45d5-d9e6-4c78449a87e7"
      },
      "execution_count": 66,
      "outputs": [
        {
          "output_type": "stream",
          "name": "stdout",
          "text": [
            "[1, 2, 3, 4, 5, 6]\n"
          ]
        }
      ]
    },
    {
      "cell_type": "markdown",
      "source": [
        "# *Set*"
      ],
      "metadata": {
        "id": "ouN_PWwyTrU1"
      }
    },
    {
      "cell_type": "markdown",
      "source": [
        "**Task**: Write a function that takes two sets and returns their intersection as a new set"
      ],
      "metadata": {
        "id": "rBaKKxiZTxaS"
      }
    },
    {
      "cell_type": "code",
      "source": [
        "def set_intersection(set1, set2):\n",
        "  set3 = (set1 - set2) | (set2 - set1)\n",
        "  return set3\n",
        "\n",
        "st1 = {1,2,3,4,5,6}\n",
        "st2 = {1,2,3,7,8,9}\n",
        "print(set_intersection(st1, st2))"
      ],
      "metadata": {
        "colab": {
          "base_uri": "https://localhost:8080/"
        },
        "id": "zIatmYREyI0y",
        "outputId": "915d3731-763a-45ec-ddfd-26c068bdbf63"
      },
      "execution_count": 63,
      "outputs": [
        {
          "output_type": "stream",
          "name": "stdout",
          "text": [
            "{4, 5, 6, 7, 8, 9}\n"
          ]
        }
      ]
    },
    {
      "cell_type": "markdown",
      "source": [
        "**Task**: Write a function that takes two sets and returns their union as a new set"
      ],
      "metadata": {
        "id": "mBgohC53UqDJ"
      }
    },
    {
      "cell_type": "code",
      "source": [
        "def set_union(set1, set2):\n",
        "  set3 = set1 | set2\n",
        "  return set3\n",
        "\n",
        "st1 = {1,2,3,4,5,6}\n",
        "st2 = {1,2,3,7,8,9}\n",
        "print(set_union(st1, st2))"
      ],
      "metadata": {
        "colab": {
          "base_uri": "https://localhost:8080/"
        },
        "id": "hdnn4vnFUUPN",
        "outputId": "69857328-90fc-4312-d20f-6f8b78cccbf9"
      },
      "execution_count": 64,
      "outputs": [
        {
          "output_type": "stream",
          "name": "stdout",
          "text": [
            "{1, 2, 3, 4, 5, 6, 7, 8, 9}\n"
          ]
        }
      ]
    },
    {
      "cell_type": "markdown",
      "source": [
        "# *Tuple*"
      ],
      "metadata": {
        "id": "AceYV0UDf8Qx"
      }
    },
    {
      "cell_type": "markdown",
      "source": [
        "**Task**: Write a function that takes a list of tuples and sorts them based on the second element of each tuple"
      ],
      "metadata": {
        "id": "APkCGejEgCJI"
      }
    },
    {
      "cell_type": "code",
      "source": [
        "def sort_tuples(ls):\n",
        "  for i in range(1,len(ls)):\n",
        "    j = i - 1\n",
        "    t = ls[i]\n",
        "    while t[1] < ls[j][1]:\n",
        "      if j < 0:\n",
        "        break\n",
        "      ls.insert(j, t)\n",
        "      ls.pop(j + 2)\n",
        "      j -= 1\n",
        "  return ls\n",
        "\n",
        "ls = [(1,2),(2,2),(2,1),(3,0),(11,15)]\n",
        "print(sort_tuples(ls))"
      ],
      "metadata": {
        "colab": {
          "base_uri": "https://localhost:8080/"
        },
        "id": "z9VgKa23VJ9P",
        "outputId": "50790c3d-05d8-44c6-b02a-6b88f0ca92a7"
      },
      "execution_count": 31,
      "outputs": [
        {
          "output_type": "stream",
          "name": "stdout",
          "text": [
            "[(3, 0), (2, 1), (1, 2), (2, 2), (11, 15)]\n"
          ]
        }
      ]
    },
    {
      "cell_type": "markdown",
      "source": [
        "**Task**: Write a function that takes a tuple and returns a reversed version of that tuple."
      ],
      "metadata": {
        "id": "1hRFR5obsH76"
      }
    },
    {
      "cell_type": "code",
      "source": [
        "def reverse_tuple(tp):\n",
        "  tp1 = tp[::-1]\n",
        "  return tp1\n",
        "\n",
        "tp = (1,2,3,4,5,6,7,8)\n",
        "print(reverse_tuple(tp))"
      ],
      "metadata": {
        "colab": {
          "base_uri": "https://localhost:8080/"
        },
        "id": "msfwZx2vg0kf",
        "outputId": "2befe3c9-1eec-4a0b-c787-18981ab28ace"
      },
      "execution_count": 44,
      "outputs": [
        {
          "output_type": "stream",
          "name": "stdout",
          "text": [
            "(8, 7, 6, 5, 4, 3, 2, 1)\n"
          ]
        }
      ]
    },
    {
      "cell_type": "markdown",
      "source": [
        "# *Dictionary*"
      ],
      "metadata": {
        "id": "g7hnmz0Zt6aB"
      }
    },
    {
      "cell_type": "markdown",
      "source": [
        "**Task**: Write a function that takes a dictionary and returns the keys and values as separate lists"
      ],
      "metadata": {
        "id": "s8pVY1u6t_bY"
      }
    },
    {
      "cell_type": "code",
      "source": [
        "def dict_seperator(d):\n",
        "  ls1 = list(d.keys())\n",
        "  ls2 = list(d.values())\n",
        "  return ls1, ls2\n",
        "\n",
        "d = {1: \"Ahmad\", 2: \"Ali\", 3: \"Mohammed\"}\n",
        "ls_keys, ls_values = dict_seperator(d)\n",
        "print(\"ls_keys = \" + str(ls_keys))\n",
        "print(\"ls_values = \" + str(ls_values))"
      ],
      "metadata": {
        "colab": {
          "base_uri": "https://localhost:8080/"
        },
        "id": "RcmbSUgclGI_",
        "outputId": "c6fc6670-88aa-4249-d7db-f42a35f8c535"
      },
      "execution_count": 46,
      "outputs": [
        {
          "output_type": "stream",
          "name": "stdout",
          "text": [
            "ls_keys = [1, 2, 3]\n",
            "ls_values = ['Ahmad', 'Ali', 'Mohammed']\n"
          ]
        }
      ]
    },
    {
      "cell_type": "markdown",
      "source": [
        "**Task**: Write a function that takes a dictionary and a key, and if the key exists in the dictionary, return its value. If the key does not exist, return a default value."
      ],
      "metadata": {
        "id": "_gDBvHDivrDy"
      }
    },
    {
      "cell_type": "code",
      "source": [
        "def get_value(d, key):\n",
        "  try:\n",
        "    return d[key]\n",
        "  except:\n",
        "    return \"The Key doesn't exixt!!\"\n",
        "\n",
        "d = {\"1\": \"Ahmad\", \"2\": \"Ali\", \"3\": \"Mohammed\"}\n",
        "key = input(\"Enter the key value: \")\n",
        "print(get_value(d , key))"
      ],
      "metadata": {
        "colab": {
          "base_uri": "https://localhost:8080/"
        },
        "id": "JoGrtE7Tu640",
        "outputId": "57fd8acb-7ba0-4c31-8870-7a672fc8f495"
      },
      "execution_count": 50,
      "outputs": [
        {
          "output_type": "stream",
          "name": "stdout",
          "text": [
            "Enter the key value: 2\n",
            "Ali\n"
          ]
        }
      ]
    }
  ]
}